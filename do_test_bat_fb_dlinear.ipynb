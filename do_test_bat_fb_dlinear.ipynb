{
 "cells": [
  {
   "cell_type": "code",
   "execution_count": null,
   "id": "1fe48b68-560e-4a7c-8999-7c6c32fe591d",
   "metadata": {
    "tags": []
   },
   "outputs": [],
   "source": [
    "%load_ext autoreload\n",
    "%autoreload 2\n",
    "from get_mmap import get_mmap\n",
    "import random\n",
    "\n",
    "# Setup the necessary paths and parameters\n",
    "fmap = 'e2_bat_fb_beta_raw_s_0_3071.raw'\n",
    "data_title = 'Templates A2 BAT FB'\n",
    "path_data = 'results/'\n",
    "name_data = 'a2_bat_fb_templates_dlinear_n200r_slr_g1000_r10.pkl'\n",
    "rand_iter = 10\n",
    "n_profile = 200 # ensure that: n_profile + n_attack < nr_blocks\n",
    "nr_traces_vec = list(range(1, 11)) + list(range(20, 101, 10)) + [200, 500, 1000]\n",
    "inbytes = list(range(256))\n",
    "atype = 'mvn'"
   ]
  },
  {
   "cell_type": "code",
   "execution_count": null,
   "id": "6c9fd93d-01ac-4765-b8bc-30a4430b4b4b",
   "metadata": {
    "tags": []
   },
   "outputs": [],
   "source": [
    "# Load file\n",
    "print('Mapping data...')\n",
    "mmap_data, metadata = get_mmap(fmap)\n",
    "print('Done mapping data')"
   ]
  },
  {
   "cell_type": "code",
   "execution_count": null,
   "id": "65df9d73-8c4b-4f7c-9a23-7859e76fa2c7",
   "metadata": {
    "tags": []
   },
   "outputs": [],
   "source": [
    "# Select idx for profile/attack\n",
    "nr_blocks = 3072\n",
    "idx = list(range(1, nr_blocks + 1))\n",
    "idx_profile = [x for x in idx if x % 3 == 1 or x % 3 == 2] # TODO: seems fine\n",
    "idx_profile = random.choices(idx_profile, k=n_profile)  # Allows duplicates\n",
    "# idx_profile = random.sample(idx_profile, n_profile) # This doesn't allow duplicates\n",
    "idx_attack = [x for x in idx if x % 3 == 0]\n",
    "\n",
    "# Set up attack/result cells\n",
    "results = [None] * 6\n",
    "\n",
    "print('done')"
   ]
  },
  {
   "cell_type": "code",
   "execution_count": null,
   "id": "8b65d678-cb8c-492b-b8d8-54205cce6edb",
   "metadata": {},
   "outputs": [],
   "source": [
    "from run_template_attack import run_template_attack\n",
    "\n",
    "cmethod = 'LDA'\n",
    "cparams = {'lda_dimensions': 4}\n",
    "discriminant = 'linearnocov'\n",
    "\n",
    "results[0] = run_template_attack(\n",
    "    mmap_data, metadata, idx_profile, mmap_data, metadata, idx_attack,\n",
    "    inbytes, atype, cmethod, cparams, discriminant, rand_iter, nr_traces_vec)"
   ]
  },
  {
   "cell_type": "code",
   "execution_count": null,
   "id": "c9d4f3f9-00f6-4e01-b7f3-a70c21424be8",
   "metadata": {},
   "outputs": [],
   "source": [
    "# Run attack for PCA\n",
    "cmethod = 'PCA'\n",
    "cparams = {\n",
    "    'pca_threshold': 0.95,\n",
    "    'pca_alternate': 0,\n",
    "    'pca_dimensions': 4\n",
    "}\n",
    "discriminant = 'linear'\n",
    "results[1] = run_template_attack(\n",
    "    mmap_data, metadata, idx_profile, mmap_data, metadata, idx_attack,\n",
    "    inbytes, atype, cmethod, cparams, discriminant, rand_iter, nr_traces_vec)\n"
   ]
  },
  {
   "cell_type": "code",
   "execution_count": null,
   "id": "4497bc9a-6957-4c69-abb8-d4bd251c24c9",
   "metadata": {},
   "outputs": [],
   "source": [
    "# Run attack for 1ppc\n",
    "cmethod = 'sample'\n",
    "cparams = {\n",
    "    'curve': 'dom',\n",
    "    'sel': '1ppc',\n",
    "    'p1': 240\n",
    "}\n",
    "discriminant = 'linear'\n",
    "results[2] = run_template_attack(\n",
    "    mmap_data, metadata, idx_profile, mmap_data, metadata, idx_attack,\n",
    "    inbytes, atype, cmethod, cparams, discriminant, rand_iter, nr_traces_vec)\n"
   ]
  },
  {
   "cell_type": "code",
   "execution_count": null,
   "id": "0707690a-4bf2-410b-82d7-e40b820a5f85",
   "metadata": {},
   "outputs": [],
   "source": [
    "# Run attack for 3ppc\n",
    "cmethod = 'sample'\n",
    "cparams = {\n",
    "    'curve': 'dom',\n",
    "    'sel': '3ppc',\n",
    "    'p1': 240\n",
    "}\n",
    "discriminant = 'linear'\n",
    "results[3] = run_template_attack(\n",
    "    mmap_data, metadata, idx_profile, mmap_data, metadata, idx_attack,\n",
    "    inbytes, atype, cmethod, cparams, discriminant, rand_iter, nr_traces_vec)\n"
   ]
  },
  {
   "cell_type": "code",
   "execution_count": null,
   "id": "3d889453-1228-4b65-9d11-e94c4a8b9c6f",
   "metadata": {},
   "outputs": [],
   "source": [
    "# Run attack for 20ppc\n",
    "cmethod = 'sample'\n",
    "cparams = {\n",
    "    'curve': 'dom',\n",
    "    'sel': '20ppc',\n",
    "    'p1': 240\n",
    "}\n",
    "discriminant = 'linear'\n",
    "results[4] = run_template_attack(\n",
    "    mmap_data, metadata, idx_profile, mmap_data, metadata, idx_attack,\n",
    "    inbytes, atype, cmethod, cparams, discriminant, rand_iter, nr_traces_vec)\n"
   ]
  },
  {
   "cell_type": "code",
   "execution_count": null,
   "id": "417eabdb-e9e2-4d60-a508-47ad989ee8e4",
   "metadata": {},
   "outputs": [],
   "source": [
    "# Run attack for allap\n",
    "cmethod = 'sample'\n",
    "cparams = {\n",
    "    'curve': 'dom',\n",
    "    'sel': 'allap',\n",
    "    'p1': 0.95\n",
    "}\n",
    "discriminant = 'linear'\n",
    "results[5] = run_template_attack(\n",
    "    mmap_data, metadata, idx_profile, mmap_data, metadata, idx_attack,\n",
    "    inbytes, atype, cmethod, cparams, discriminant, rand_iter, nr_traces_vec)\n"
   ]
  },
  {
   "cell_type": "code",
   "execution_count": null,
   "id": "c6d2d8c3-d242-4212-b661-f2c52c85549b",
   "metadata": {},
   "outputs": [],
   "source": [
    "import os\n",
    "import pickle\n",
    "\n",
    "# Save data to disk so you can prevent wasting time\n",
    "print('All done, saving data...\\n')\n",
    "os.makedirs(path_data, exist_ok=True)\n",
    "\n",
    "with open(os.path.join(path_data, 'results.pkl'), 'wb') as f:\n",
    "    pickle.dump(results, f)"
   ]
  },
  {
   "cell_type": "code",
   "execution_count": null,
   "id": "66599ac1",
   "metadata": {},
   "outputs": [],
   "source": [
    "import pickle\n",
    "\n",
    "# Setup paths and parameters\n",
    "fdata = 'results/results.pkl'\n",
    "rpath = 'figures/'\n",
    "font_size = 24\n",
    "options = 'gL'\n",
    "yrange = [0, 6.5]\n",
    "nr_traces_vec = list(range(1, 11)) + list(range(20, 101, 10)) + [200, 500, 1000]\n",
    "len_na_vec = len(nr_traces_vec)\n",
    "\n",
    "# Load template results and related data\n",
    "with open(fdata, 'rb') as f:\n",
    "    data = pickle.load(f)\n",
    "\n",
    "data[0] = results[0]\n",
    "\n",
    "import os\n",
    "\n",
    "# Save data to disk so you can prevent wasting time\n",
    "print('All done, saving data...\\n')\n",
    "os.makedirs(path_data, exist_ok=True)\n",
    "\n",
    "with open(os.path.join(path_data, 'results.pkl'), 'wb') as f:\n",
    "    pickle.dump(data, f)"
   ]
  },
  {
   "cell_type": "code",
   "execution_count": null,
   "id": "c93c1aef",
   "metadata": {},
   "outputs": [],
   "source": [
    "# Setup paths and parameters\n",
    "fdata = 'results/a2_bat_fb_templates_dlinear_n200r_slr_g1000_r10.pkl'\n",
    "rpath = 'figures/'\n",
    "font_size = 24\n",
    "options = 'gL'\n",
    "yrange = [0, 6.5]\n",
    "nr_traces_vec = list(range(1, 11)) + list(range(20, 101, 10)) + [200, 500, 1000]\n",
    "len_na_vec = len(nr_traces_vec)\n",
    "\n",
    "import pickle\n",
    "\n",
    "# Load template results and related data\n",
    "with open(fdata, 'rb') as f:\n",
    "    data = pickle.load(f)\n",
    "\n",
    "from do_show_results_templates_a2_bat_fb import get_ge_from_success_info, get_line_properties_templates, make_figures_ge\n",
    "import matplotlib.pyplot as plt\n",
    "import numpy as np\n",
    "\n",
    "# Reset environment\n",
    "plt.close('all')\n",
    "\n",
    "nump = data[0]['x_profile'].shape[0]\n",
    "rand_iter = data[0]['rand_iter']\n",
    "nr_exp_ab = len(data)\n",
    "L = [None] * nr_exp_ab\n",
    "G = np.zeros((nr_exp_ab, len_na_vec))\n",
    "slines_ab = [None] * nr_exp_ab\n",
    "style = 'fancy'\n",
    "\n",
    "for k in range(nr_exp_ab):\n",
    "    cmethod = data[k]['cmethod']\n",
    "    if cmethod == 'sample':\n",
    "        L[k] = f\"A2 BAT FB, DLINEAR, {cmethod}, curve={data[k]['cparams']['curve']}, sel={data[k]['cparams']['sel']}, p1={data[k]['cparams']['p1']}\"\n",
    "    elif cmethod == 'PCA':\n",
    "        L[k] = f\"A2 BAT FB, DLINEAR, {cmethod}, threshold={data[k]['cparams']['pca_threshold']}, dimensions={data[k]['cparams']['pca_dimensions']}\"\n",
    "    elif cmethod == 'LDA':\n",
    "        L[k] = f\"A2 BAT FB, DLINEAR, {cmethod}, dimensions={data[k]['cparams']['lda_dimensions']}\"\n",
    "\n",
    "    g = get_ge_from_success_info(data[k]['success_info'], nr_traces_vec)\n",
    "    G[k, :] = g['joint']\n",
    "    slines_ab[k] = get_line_properties_templates(k, style)\n",
    "\n",
    "# Plot results\n",
    "title_results = f\"A2 BAT FB, nump={nump}\"\n",
    "rprefix = f\"a2_bat_fb_dlinear_n{nump}r_ls_r{rand_iter}_\"\n",
    "make_figures_ge(G, nr_traces_vec, rpath, rprefix, title_results, L, font_size, slines_ab, options, yrange)"
   ]
  }
 ],
 "metadata": {
  "kernelspec": {
   "display_name": "Python 3 (ipykernel)",
   "language": "python",
   "name": "python3"
  },
  "language_info": {
   "codemirror_mode": {
    "name": "ipython",
    "version": 3
   },
   "file_extension": ".py",
   "mimetype": "text/x-python",
   "name": "python",
   "nbconvert_exporter": "python",
   "pygments_lexer": "ipython3",
   "version": "3.11.7"
  }
 },
 "nbformat": 4,
 "nbformat_minor": 5
}
